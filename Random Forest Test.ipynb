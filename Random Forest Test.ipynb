{
 "cells": [
  {
   "cell_type": "code",
   "execution_count": 1,
   "metadata": {},
   "outputs": [],
   "source": [
    "# Import required modules\n",
    "import matplotlib.pyplot as plt\n",
    "import numpy as np\n",
    "\n",
    "%matplotlib inline\n",
    "\n",
    "from pathlib import Path\n",
    "import pandas as pd\n",
    "import seaborn as sns"
   ]
  },
  {
   "cell_type": "code",
   "execution_count": 5,
   "metadata": {},
   "outputs": [],
   "source": [
    "def normalise_data_by_month(data: pd.Series) -> pd.DataFrame:\n",
    "    out = []\n",
    "    for season in np.unique(data.index.month.values):\n",
    "        mean = data.loc[data.index.month == season].mean()\n",
    "        std = data.loc[data.index.month == season].std()\n",
    "        value = (data.loc[data.index.month == season] - mean) / std\n",
    "\n",
    "        out.append(value)\n",
    "    return pd.concat(out)"
   ]
  },
  {
   "cell_type": "code",
   "execution_count": 9,
   "metadata": {},
   "outputs": [
    {
     "data": {
      "text/html": [
       "<div>\n",
       "<style scoped>\n",
       "    .dataframe tbody tr th:only-of-type {\n",
       "        vertical-align: middle;\n",
       "    }\n",
       "\n",
       "    .dataframe tbody tr th {\n",
       "        vertical-align: top;\n",
       "    }\n",
       "\n",
       "    .dataframe thead th {\n",
       "        text-align: right;\n",
       "    }\n",
       "</style>\n",
       "<table border=\"1\" class=\"dataframe\">\n",
       "  <thead>\n",
       "    <tr style=\"text-align: right;\">\n",
       "      <th></th>\n",
       "      <th>flow</th>\n",
       "      <th>flow_std</th>\n",
       "      <th>AMM</th>\n",
       "      <th>AMO</th>\n",
       "      <th>AO</th>\n",
       "      <th>NAO</th>\n",
       "      <th>NINO12</th>\n",
       "      <th>NINO3</th>\n",
       "      <th>NINO34</th>\n",
       "      <th>NOI</th>\n",
       "      <th>NP</th>\n",
       "      <th>NPI</th>\n",
       "      <th>ONI</th>\n",
       "      <th>PDO</th>\n",
       "      <th>PNA</th>\n",
       "      <th>PWP</th>\n",
       "      <th>SOI</th>\n",
       "      <th>TNA</th>\n",
       "      <th>TPI</th>\n",
       "      <th>TSA</th>\n",
       "    </tr>\n",
       "    <tr>\n",
       "      <th>date</th>\n",
       "      <th></th>\n",
       "      <th></th>\n",
       "      <th></th>\n",
       "      <th></th>\n",
       "      <th></th>\n",
       "      <th></th>\n",
       "      <th></th>\n",
       "      <th></th>\n",
       "      <th></th>\n",
       "      <th></th>\n",
       "      <th></th>\n",
       "      <th></th>\n",
       "      <th></th>\n",
       "      <th></th>\n",
       "      <th></th>\n",
       "      <th></th>\n",
       "      <th></th>\n",
       "      <th></th>\n",
       "      <th></th>\n",
       "      <th></th>\n",
       "    </tr>\n",
       "  </thead>\n",
       "  <tbody>\n",
       "    <tr>\n",
       "      <th>1950-01-01</th>\n",
       "      <td>36.854839</td>\n",
       "      <td>7.938759</td>\n",
       "      <td>0.53</td>\n",
       "      <td>0.112</td>\n",
       "      <td>-0.060</td>\n",
       "      <td>0.56</td>\n",
       "      <td>23.01</td>\n",
       "      <td>23.56</td>\n",
       "      <td>24.55</td>\n",
       "      <td>2.644</td>\n",
       "      <td>1014.87</td>\n",
       "      <td>1014.87</td>\n",
       "      <td>-1.53</td>\n",
       "      <td>-2.13</td>\n",
       "      <td>-3.65</td>\n",
       "      <td>-0.382</td>\n",
       "      <td>NaN</td>\n",
       "      <td>-0.14</td>\n",
       "      <td>-1.12</td>\n",
       "      <td>0.08</td>\n",
       "    </tr>\n",
       "    <tr>\n",
       "      <th>1950-02-01</th>\n",
       "      <td>203.896429</td>\n",
       "      <td>59.782851</td>\n",
       "      <td>-1.07</td>\n",
       "      <td>-0.032</td>\n",
       "      <td>0.627</td>\n",
       "      <td>0.01</td>\n",
       "      <td>24.32</td>\n",
       "      <td>24.89</td>\n",
       "      <td>25.06</td>\n",
       "      <td>2.077</td>\n",
       "      <td>1010.40</td>\n",
       "      <td>1010.40</td>\n",
       "      <td>-1.34</td>\n",
       "      <td>-2.91</td>\n",
       "      <td>-1.69</td>\n",
       "      <td>-0.207</td>\n",
       "      <td>NaN</td>\n",
       "      <td>-0.36</td>\n",
       "      <td>-1.38</td>\n",
       "      <td>0.15</td>\n",
       "    </tr>\n",
       "    <tr>\n",
       "      <th>1950-03-01</th>\n",
       "      <td>73.916129</td>\n",
       "      <td>14.940506</td>\n",
       "      <td>-1.26</td>\n",
       "      <td>-0.104</td>\n",
       "      <td>-0.008</td>\n",
       "      <td>-0.78</td>\n",
       "      <td>25.11</td>\n",
       "      <td>26.36</td>\n",
       "      <td>25.87</td>\n",
       "      <td>3.091</td>\n",
       "      <td>1008.13</td>\n",
       "      <td>1008.13</td>\n",
       "      <td>-1.16</td>\n",
       "      <td>-1.13</td>\n",
       "      <td>-0.06</td>\n",
       "      <td>-0.110</td>\n",
       "      <td>NaN</td>\n",
       "      <td>-0.37</td>\n",
       "      <td>-1.09</td>\n",
       "      <td>0.12</td>\n",
       "    </tr>\n",
       "    <tr>\n",
       "      <th>1950-04-01</th>\n",
       "      <td>46.833333</td>\n",
       "      <td>20.282306</td>\n",
       "      <td>0.72</td>\n",
       "      <td>-0.129</td>\n",
       "      <td>0.555</td>\n",
       "      <td>0.65</td>\n",
       "      <td>23.63</td>\n",
       "      <td>26.44</td>\n",
       "      <td>26.28</td>\n",
       "      <td>1.923</td>\n",
       "      <td>1015.49</td>\n",
       "      <td>1015.49</td>\n",
       "      <td>-1.18</td>\n",
       "      <td>-1.20</td>\n",
       "      <td>-0.23</td>\n",
       "      <td>-0.126</td>\n",
       "      <td>NaN</td>\n",
       "      <td>-0.11</td>\n",
       "      <td>-1.10</td>\n",
       "      <td>-0.17</td>\n",
       "    </tr>\n",
       "    <tr>\n",
       "      <th>1950-05-01</th>\n",
       "      <td>39.703226</td>\n",
       "      <td>18.872652</td>\n",
       "      <td>1.05</td>\n",
       "      <td>-0.057</td>\n",
       "      <td>0.072</td>\n",
       "      <td>-0.50</td>\n",
       "      <td>22.68</td>\n",
       "      <td>25.69</td>\n",
       "      <td>26.18</td>\n",
       "      <td>2.211</td>\n",
       "      <td>1015.47</td>\n",
       "      <td>1015.47</td>\n",
       "      <td>-1.07</td>\n",
       "      <td>-2.23</td>\n",
       "      <td>-0.40</td>\n",
       "      <td>-0.145</td>\n",
       "      <td>NaN</td>\n",
       "      <td>-0.25</td>\n",
       "      <td>-1.28</td>\n",
       "      <td>-0.34</td>\n",
       "    </tr>\n",
       "  </tbody>\n",
       "</table>\n",
       "</div>"
      ],
      "text/plain": [
       "                  flow   flow_std   AMM    AMO     AO   NAO  NINO12  NINO3  \\\n",
       "date                                                                         \n",
       "1950-01-01   36.854839   7.938759  0.53  0.112 -0.060  0.56   23.01  23.56   \n",
       "1950-02-01  203.896429  59.782851 -1.07 -0.032  0.627  0.01   24.32  24.89   \n",
       "1950-03-01   73.916129  14.940506 -1.26 -0.104 -0.008 -0.78   25.11  26.36   \n",
       "1950-04-01   46.833333  20.282306  0.72 -0.129  0.555  0.65   23.63  26.44   \n",
       "1950-05-01   39.703226  18.872652  1.05 -0.057  0.072 -0.50   22.68  25.69   \n",
       "\n",
       "            NINO34    NOI       NP      NPI   ONI   PDO   PNA    PWP  SOI  \\\n",
       "date                                                                        \n",
       "1950-01-01   24.55  2.644  1014.87  1014.87 -1.53 -2.13 -3.65 -0.382  NaN   \n",
       "1950-02-01   25.06  2.077  1010.40  1010.40 -1.34 -2.91 -1.69 -0.207  NaN   \n",
       "1950-03-01   25.87  3.091  1008.13  1008.13 -1.16 -1.13 -0.06 -0.110  NaN   \n",
       "1950-04-01   26.28  1.923  1015.49  1015.49 -1.18 -1.20 -0.23 -0.126  NaN   \n",
       "1950-05-01   26.18  2.211  1015.47  1015.47 -1.07 -2.23 -0.40 -0.145  NaN   \n",
       "\n",
       "             TNA   TPI   TSA  \n",
       "date                          \n",
       "1950-01-01 -0.14 -1.12  0.08  \n",
       "1950-02-01 -0.36 -1.38  0.15  \n",
       "1950-03-01 -0.37 -1.09  0.12  \n",
       "1950-04-01 -0.11 -1.10 -0.17  \n",
       "1950-05-01 -0.25 -1.28 -0.34  "
      ]
     },
     "execution_count": 9,
     "metadata": {},
     "output_type": "execute_result"
    }
   ],
   "source": [
    "data_dir = Path('/Users/tommylees/github/hydro-mini-hack')\n",
    "csv_file = data_dir / 'flow_and_indices.csv'\n",
    "df = pd.read_csv(csv_file)\n",
    "df.date = pd.to_datetime(df.date)\n",
    "df = df.set_index('date')\n",
    "df.head()"
   ]
  },
  {
   "cell_type": "code",
   "execution_count": 11,
   "metadata": {},
   "outputs": [
    {
     "data": {
      "text/html": [
       "<div>\n",
       "<style scoped>\n",
       "    .dataframe tbody tr th:only-of-type {\n",
       "        vertical-align: middle;\n",
       "    }\n",
       "\n",
       "    .dataframe tbody tr th {\n",
       "        vertical-align: top;\n",
       "    }\n",
       "\n",
       "    .dataframe thead th {\n",
       "        text-align: right;\n",
       "    }\n",
       "</style>\n",
       "<table border=\"1\" class=\"dataframe\">\n",
       "  <thead>\n",
       "    <tr style=\"text-align: right;\">\n",
       "      <th></th>\n",
       "      <th>flow</th>\n",
       "      <th>flow_std</th>\n",
       "      <th>AMM</th>\n",
       "      <th>AMO</th>\n",
       "      <th>AO</th>\n",
       "      <th>NAO</th>\n",
       "      <th>NINO12</th>\n",
       "      <th>NINO3</th>\n",
       "      <th>NINO34</th>\n",
       "      <th>NOI</th>\n",
       "      <th>...</th>\n",
       "      <th>NPI</th>\n",
       "      <th>ONI</th>\n",
       "      <th>PDO</th>\n",
       "      <th>PNA</th>\n",
       "      <th>PWP</th>\n",
       "      <th>SOI</th>\n",
       "      <th>TNA</th>\n",
       "      <th>TPI</th>\n",
       "      <th>TSA</th>\n",
       "      <th>flow_norm</th>\n",
       "    </tr>\n",
       "    <tr>\n",
       "      <th>date</th>\n",
       "      <th></th>\n",
       "      <th></th>\n",
       "      <th></th>\n",
       "      <th></th>\n",
       "      <th></th>\n",
       "      <th></th>\n",
       "      <th></th>\n",
       "      <th></th>\n",
       "      <th></th>\n",
       "      <th></th>\n",
       "      <th></th>\n",
       "      <th></th>\n",
       "      <th></th>\n",
       "      <th></th>\n",
       "      <th></th>\n",
       "      <th></th>\n",
       "      <th></th>\n",
       "      <th></th>\n",
       "      <th></th>\n",
       "      <th></th>\n",
       "      <th></th>\n",
       "    </tr>\n",
       "  </thead>\n",
       "  <tbody>\n",
       "    <tr>\n",
       "      <th>1950-01-01</th>\n",
       "      <td>36.854839</td>\n",
       "      <td>7.938759</td>\n",
       "      <td>0.53</td>\n",
       "      <td>0.112</td>\n",
       "      <td>-0.060</td>\n",
       "      <td>0.56</td>\n",
       "      <td>23.01</td>\n",
       "      <td>23.56</td>\n",
       "      <td>24.55</td>\n",
       "      <td>2.644</td>\n",
       "      <td>...</td>\n",
       "      <td>1014.87</td>\n",
       "      <td>-1.53</td>\n",
       "      <td>-2.13</td>\n",
       "      <td>-3.65</td>\n",
       "      <td>-0.382</td>\n",
       "      <td>NaN</td>\n",
       "      <td>-0.14</td>\n",
       "      <td>-1.12</td>\n",
       "      <td>0.08</td>\n",
       "      <td>-1.312739</td>\n",
       "    </tr>\n",
       "    <tr>\n",
       "      <th>1950-02-01</th>\n",
       "      <td>203.896429</td>\n",
       "      <td>59.782851</td>\n",
       "      <td>-1.07</td>\n",
       "      <td>-0.032</td>\n",
       "      <td>0.627</td>\n",
       "      <td>0.01</td>\n",
       "      <td>24.32</td>\n",
       "      <td>24.89</td>\n",
       "      <td>25.06</td>\n",
       "      <td>2.077</td>\n",
       "      <td>...</td>\n",
       "      <td>1010.40</td>\n",
       "      <td>-1.34</td>\n",
       "      <td>-2.91</td>\n",
       "      <td>-1.69</td>\n",
       "      <td>-0.207</td>\n",
       "      <td>NaN</td>\n",
       "      <td>-0.36</td>\n",
       "      <td>-1.38</td>\n",
       "      <td>0.15</td>\n",
       "      <td>1.181776</td>\n",
       "    </tr>\n",
       "    <tr>\n",
       "      <th>1950-03-01</th>\n",
       "      <td>73.916129</td>\n",
       "      <td>14.940506</td>\n",
       "      <td>-1.26</td>\n",
       "      <td>-0.104</td>\n",
       "      <td>-0.008</td>\n",
       "      <td>-0.78</td>\n",
       "      <td>25.11</td>\n",
       "      <td>26.36</td>\n",
       "      <td>25.87</td>\n",
       "      <td>3.091</td>\n",
       "      <td>...</td>\n",
       "      <td>1008.13</td>\n",
       "      <td>-1.16</td>\n",
       "      <td>-1.13</td>\n",
       "      <td>-0.06</td>\n",
       "      <td>-0.110</td>\n",
       "      <td>NaN</td>\n",
       "      <td>-0.37</td>\n",
       "      <td>-1.09</td>\n",
       "      <td>0.12</td>\n",
       "      <td>-0.454067</td>\n",
       "    </tr>\n",
       "    <tr>\n",
       "      <th>1950-04-01</th>\n",
       "      <td>46.833333</td>\n",
       "      <td>20.282306</td>\n",
       "      <td>0.72</td>\n",
       "      <td>-0.129</td>\n",
       "      <td>0.555</td>\n",
       "      <td>0.65</td>\n",
       "      <td>23.63</td>\n",
       "      <td>26.44</td>\n",
       "      <td>26.28</td>\n",
       "      <td>1.923</td>\n",
       "      <td>...</td>\n",
       "      <td>1015.49</td>\n",
       "      <td>-1.18</td>\n",
       "      <td>-1.20</td>\n",
       "      <td>-0.23</td>\n",
       "      <td>-0.126</td>\n",
       "      <td>NaN</td>\n",
       "      <td>-0.11</td>\n",
       "      <td>-1.10</td>\n",
       "      <td>-0.17</td>\n",
       "      <td>-0.653773</td>\n",
       "    </tr>\n",
       "    <tr>\n",
       "      <th>1950-05-01</th>\n",
       "      <td>39.703226</td>\n",
       "      <td>18.872652</td>\n",
       "      <td>1.05</td>\n",
       "      <td>-0.057</td>\n",
       "      <td>0.072</td>\n",
       "      <td>-0.50</td>\n",
       "      <td>22.68</td>\n",
       "      <td>25.69</td>\n",
       "      <td>26.18</td>\n",
       "      <td>2.211</td>\n",
       "      <td>...</td>\n",
       "      <td>1015.47</td>\n",
       "      <td>-1.07</td>\n",
       "      <td>-2.23</td>\n",
       "      <td>-0.40</td>\n",
       "      <td>-0.145</td>\n",
       "      <td>NaN</td>\n",
       "      <td>-0.25</td>\n",
       "      <td>-1.28</td>\n",
       "      <td>-0.34</td>\n",
       "      <td>-0.384741</td>\n",
       "    </tr>\n",
       "  </tbody>\n",
       "</table>\n",
       "<p>5 rows × 21 columns</p>\n",
       "</div>"
      ],
      "text/plain": [
       "                  flow   flow_std   AMM    AMO     AO   NAO  NINO12  NINO3  \\\n",
       "date                                                                         \n",
       "1950-01-01   36.854839   7.938759  0.53  0.112 -0.060  0.56   23.01  23.56   \n",
       "1950-02-01  203.896429  59.782851 -1.07 -0.032  0.627  0.01   24.32  24.89   \n",
       "1950-03-01   73.916129  14.940506 -1.26 -0.104 -0.008 -0.78   25.11  26.36   \n",
       "1950-04-01   46.833333  20.282306  0.72 -0.129  0.555  0.65   23.63  26.44   \n",
       "1950-05-01   39.703226  18.872652  1.05 -0.057  0.072 -0.50   22.68  25.69   \n",
       "\n",
       "            NINO34    NOI  ...      NPI   ONI   PDO   PNA    PWP  SOI   TNA  \\\n",
       "date                       ...                                                \n",
       "1950-01-01   24.55  2.644  ...  1014.87 -1.53 -2.13 -3.65 -0.382  NaN -0.14   \n",
       "1950-02-01   25.06  2.077  ...  1010.40 -1.34 -2.91 -1.69 -0.207  NaN -0.36   \n",
       "1950-03-01   25.87  3.091  ...  1008.13 -1.16 -1.13 -0.06 -0.110  NaN -0.37   \n",
       "1950-04-01   26.28  1.923  ...  1015.49 -1.18 -1.20 -0.23 -0.126  NaN -0.11   \n",
       "1950-05-01   26.18  2.211  ...  1015.47 -1.07 -2.23 -0.40 -0.145  NaN -0.25   \n",
       "\n",
       "             TPI   TSA  flow_norm  \n",
       "date                               \n",
       "1950-01-01 -1.12  0.08  -1.312739  \n",
       "1950-02-01 -1.38  0.15   1.181776  \n",
       "1950-03-01 -1.09  0.12  -0.454067  \n",
       "1950-04-01 -1.10 -0.17  -0.653773  \n",
       "1950-05-01 -1.28 -0.34  -0.384741  \n",
       "\n",
       "[5 rows x 21 columns]"
      ]
     },
     "execution_count": 11,
     "metadata": {},
     "output_type": "execute_result"
    }
   ],
   "source": [
    "df['flow_norm'] = normalise_data_by_month(df.flow)\n",
    "df.head()"
   ]
  },
  {
   "cell_type": "code",
   "execution_count": 14,
   "metadata": {},
   "outputs": [
    {
     "data": {
      "text/plain": [
       "<matplotlib.axes._subplots.AxesSubplot at 0x1a100b9cc0>"
      ]
     },
     "execution_count": 14,
     "metadata": {},
     "output_type": "execute_result"
    },
    {
     "data": {
      "image/png": "[encoded data removed]",
      "text/plain": [
       "<Figure size 432x288 with 1 Axes>"
      ]
     },
     "metadata": {
      "needs_background": "light"
     },
     "output_type": "display_data"
    }
   ],
   "source": [
    "sns.distplot(df.flow_norm)"
   ]
  },
  {
   "cell_type": "code",
   "execution_count": 33,
   "metadata": {},
   "outputs": [],
   "source": [
    "from sklearn.ensemble import RandomForestRegressor\n",
    "from sklearn.model_selection import train_test_split\n",
    "from sklearn.metrics import mean_squared_error"
   ]
  },
  {
   "cell_type": "code",
   "execution_count": 34,
   "metadata": {},
   "outputs": [],
   "source": [
    "r = RandomForestRegressor(\n",
    "    n_estimators='warn',\n",
    "    criterion='mse',\n",
    "    max_depth=None,\n",
    "    min_samples_split=2,\n",
    "    min_samples_leaf=1,\n",
    "    min_weight_fraction_leaf=0.0,\n",
    "    max_features='auto',\n",
    "    max_leaf_nodes=None,\n",
    "    min_impurity_decrease=0.0,\n",
    "    min_impurity_split=None,\n",
    "    bootstrap=True,\n",
    "    oob_score=False,\n",
    "    n_jobs=None,\n",
    "    random_state=None,\n",
    "    verbose=0,\n",
    "    warm_start=False,\n",
    ")\n"
   ]
  },
  {
   "cell_type": "code",
   "execution_count": 35,
   "metadata": {},
   "outputs": [
    {
     "data": {
      "text/plain": [
       "Index(['flow', 'flow_std', 'AMM', 'AMO', 'AO', 'NAO', 'NINO12', 'NINO3',\n",
       "       'NINO34', 'NOI', 'NP', 'NPI', 'ONI', 'PDO', 'PNA', 'PWP', 'SOI', 'TNA',\n",
       "       'TPI', 'TSA', 'flow_norm'],\n",
       "      dtype='object')"
      ]
     },
     "execution_count": 35,
     "metadata": {},
     "output_type": "execute_result"
    }
   ],
   "source": [
    "df.columns"
   ]
  },
  {
   "cell_type": "code",
   "execution_count": 48,
   "metadata": {},
   "outputs": [
    {
     "name": "stdout",
     "output_type": "stream",
     "text": [
      "1.3603743577265024\n"
     ]
    },
    {
     "data": {
      "text/plain": [
       "<matplotlib.axes._subplots.AxesSubplot at 0x1a13a07710>"
      ]
     },
     "execution_count": 48,
     "metadata": {},
     "output_type": "execute_result"
    },
    {
     "data": {
      "image/png": "[encoded data removed]",
      "text/plain": [
       "<Figure size 432x288 with 1 Axes>"
      ]
     },
     "metadata": {
      "needs_background": "light"
     },
     "output_type": "display_data"
    }
   ],
   "source": [
    "X = df[['AMO', 'AO', 'NINO34', 'PDO']]\n",
    "y = df['flow_norm']\n",
    "train_X, test_X, train_y, test_y = train_test_split(X, y)\n",
    "\n",
    "r.fit(train_X, train_y)\n",
    "preds = r.predict(test_X)\n",
    "print(mean_squared_error(test_y, preds))\n",
    "\n",
    "out = pd.DataFrame({'true':test_y,'preds':preds})\n",
    "out.plot()"
   ]
  },
  {
   "cell_type": "code",
   "execution_count": 52,
   "metadata": {},
   "outputs": [
    {
     "name": "stdout",
     "output_type": "stream",
     "text": [
      "('AMO', 0.25339105810619095)\n",
      "('AO', 0.26394820507553735)\n",
      "('NINO34', 0.2555031489433623)\n",
      "('PDO', 0.22715758787490933)\n"
     ]
    }
   ],
   "source": [
    "for feature in zip(['AMO', 'AO', 'NINO34', 'PDO'], r.feature_importances_):\n",
    "    print(feature)"
   ]
  },
  {
   "cell_type": "code",
   "execution_count": 57,
   "metadata": {},
   "outputs": [
    {
     "name": "stdout",
     "output_type": "stream",
     "text": [
      "Object `r.score #(test_X, test_y)` not found.\n"
     ]
    }
   ],
   "source": [
    "?r.score #(test_X, test_y)"
   ]
  },
  {
   "cell_type": "markdown",
   "metadata": {},
   "source": [
    "# compare the different features individually"
   ]
  },
  {
   "cell_type": "code",
   "execution_count": 46,
   "metadata": {},
   "outputs": [
    {
     "data": {
      "text/plain": [
       "<matplotlib.axes._subplots.AxesSubplot at 0x1a13aa63c8>"
      ]
     },
     "execution_count": 46,
     "metadata": {},
     "output_type": "execute_result"
    },
    {
     "data": {
      "image/png": "[encoded data removed]",
      "text/plain": [
       "<Figure size 432x288 with 1 Axes>"
      ]
     },
     "metadata": {
      "needs_background": "light"
     },
     "output_type": "display_data"
    }
   ],
   "source": [
    "X = df[['AMO']]\n",
    "y = df['flow_norm']\n",
    "train_X, test_X, train_y, test_y = train_test_split(X, y)\n",
    "\n",
    "r.fit(train_X, train_y)\n",
    "preds = r.predict(test_X)\n",
    "mean_squared_error(test_y, preds)\n",
    "\n",
    "out = pd.DataFrame({'true':test_y,'preds':preds})\n",
    "out.plot()"
   ]
  },
  {
   "cell_type": "code",
   "execution_count": 43,
   "metadata": {},
   "outputs": [
    {
     "data": {
      "text/plain": [
       "1.4868871256558167"
      ]
     },
     "execution_count": 43,
     "metadata": {},
     "output_type": "execute_result"
    }
   ],
   "source": [
    "X = df[['AO']]\n",
    "y = df['flow_norm']\n",
    "train_X, test_X, train_y, test_y = train_test_split(X, y)\n",
    "\n",
    "r.fit(train_X, train_y)\n",
    "preds = r.predict(test_X)\n",
    "mean_squared_error(test_y, preds)"
   ]
  },
  {
   "cell_type": "code",
   "execution_count": 44,
   "metadata": {},
   "outputs": [
    {
     "data": {
      "text/plain": [
       "1.5408059220199046"
      ]
     },
     "execution_count": 44,
     "metadata": {},
     "output_type": "execute_result"
    }
   ],
   "source": [
    "X = df[['NINO34']]\n",
    "y = df['flow_norm']\n",
    "train_X, test_X, train_y, test_y = train_test_split(X, y)\n",
    "\n",
    "r.fit(train_X, train_y)\n",
    "preds = r.predict(test_X)\n",
    "mean_squared_error(test_y, preds)"
   ]
  },
  {
   "cell_type": "code",
   "execution_count": null,
   "metadata": {},
   "outputs": [],
   "source": [
    "from sklearn.ensemble import HistGradientBoostingClassifier\n"
   ]
  }
 ],
 "metadata": {
  "kernelspec": {
   "display_name": "Python 3",
   "language": "python",
   "name": "python3"
  },
  "language_info": {
   "codemirror_mode": {
    "name": "ipython",
    "version": 3
   },
   "file_extension": ".py",
   "mimetype": "text/x-python",
   "name": "python",
   "nbconvert_exporter": "python",
   "pygments_lexer": "ipython3",
   "version": "3.7.1"
  }
 },
 "nbformat": 4,
 "nbformat_minor": 2
}
